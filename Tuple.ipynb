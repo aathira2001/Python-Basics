{
  "nbformat": 4,
  "nbformat_minor": 0,
  "metadata": {
    "colab": {
      "provenance": []
    },
    "kernelspec": {
      "name": "python3",
      "display_name": "Python 3"
    },
    "language_info": {
      "name": "python"
    }
  },
  "cells": [
    {
      "cell_type": "code",
      "execution_count": null,
      "metadata": {
        "colab": {
          "base_uri": "https://localhost:8080/"
        },
        "id": "yk43F1ls_hXx",
        "outputId": "7f403a00-6887-4932-ee2d-b7cc5654212f"
      },
      "outputs": [
        {
          "output_type": "stream",
          "name": "stdout",
          "text": [
            "Tuple: (1, 2, 3)\n"
          ]
        }
      ],
      "source": [
        "t = (1, 2, 3)\n",
        "print(\"Tuple:\", t)"
      ]
    },
    {
      "cell_type": "code",
      "source": [
        "t = (1, \"Hello\", 3.14, True)\n",
        "print(\"Mixed tuple:\", t)"
      ],
      "metadata": {
        "colab": {
          "base_uri": "https://localhost:8080/"
        },
        "id": "aFm_Cb6a_zJS",
        "outputId": "b7fa5b8f-4819-43dd-85f9-b3585b9003c4"
      },
      "execution_count": null,
      "outputs": [
        {
          "output_type": "stream",
          "name": "stdout",
          "text": [
            "Mixed tuple: (1, 'Hello', 3.14, True)\n"
          ]
        }
      ]
    },
    {
      "cell_type": "code",
      "source": [
        "t = (10, 20, 30, 40)\n",
        "print(\"One item:\", t[2])"
      ],
      "metadata": {
        "colab": {
          "base_uri": "https://localhost:8080/"
        },
        "id": "c8TYIPSD_7dT",
        "outputId": "ba5180f0-66b0-433e-a762-3d973325fe1c"
      },
      "execution_count": null,
      "outputs": [
        {
          "output_type": "stream",
          "name": "stdout",
          "text": [
            "One item: 30\n"
          ]
        }
      ]
    },
    {
      "cell_type": "code",
      "source": [
        "t = (\"apple\", \"banana\", \"cherry\")\n",
        "a, b, c = t\n",
        "print(a, b, c)"
      ],
      "metadata": {
        "colab": {
          "base_uri": "https://localhost:8080/"
        },
        "id": "sfFwQ_lLABzk",
        "outputId": "5d4590c9-0121-4fb5-b5bf-c0d21b7eccb5"
      },
      "execution_count": null,
      "outputs": [
        {
          "output_type": "stream",
          "name": "stdout",
          "text": [
            "apple banana cherry\n"
          ]
        }
      ]
    },
    {
      "cell_type": "code",
      "source": [
        "t = (1, 2, 3)\n",
        "t = t + (4,)\n",
        "print(\"Tuple after adding:\", t)"
      ],
      "metadata": {
        "colab": {
          "base_uri": "https://localhost:8080/"
        },
        "id": "uyICNyo9AHud",
        "outputId": "f603f911-982e-4d30-aa07-d5fb8f908a11"
      },
      "execution_count": null,
      "outputs": [
        {
          "output_type": "stream",
          "name": "stdout",
          "text": [
            "Tuple after adding: (1, 2, 3, 4)\n"
          ]
        }
      ]
    },
    {
      "cell_type": "code",
      "source": [
        "t = ('H', 'e', 'l', 'l', 'o')\n",
        "s = ''.join(t)\n",
        "print(\"String:\", s)"
      ],
      "metadata": {
        "colab": {
          "base_uri": "https://localhost:8080/"
        },
        "id": "bEkfCRE6ANRb",
        "outputId": "48c0cd15-c153-4402-e19c-37938974027d"
      },
      "execution_count": null,
      "outputs": [
        {
          "output_type": "stream",
          "name": "stdout",
          "text": [
            "String: Hello\n"
          ]
        }
      ]
    },
    {
      "cell_type": "code",
      "source": [
        "t = (1, 2, 3, 4, 5, 6, 7, 8)\n",
        "print(\"4th from last:\", t[-4])"
      ],
      "metadata": {
        "colab": {
          "base_uri": "https://localhost:8080/"
        },
        "id": "dcQ3HllUAYWE",
        "outputId": "8ad22e3d-0096-4e8b-caaa-0a701be9cf4f"
      },
      "execution_count": null,
      "outputs": [
        {
          "output_type": "stream",
          "name": "stdout",
          "text": [
            "4th from last: 5\n"
          ]
        }
      ]
    },
    {
      "cell_type": "code",
      "source": [
        "t = (10, 20, 30)\n",
        "clone = t[:]\n",
        "print(\"Cloned tuple:\", clone)"
      ],
      "metadata": {
        "colab": {
          "base_uri": "https://localhost:8080/"
        },
        "id": "dGxVMuJiAdYw",
        "outputId": "a6f41972-bb29-475b-8702-7c99d032838e"
      },
      "execution_count": null,
      "outputs": [
        {
          "output_type": "stream",
          "name": "stdout",
          "text": [
            "Cloned tuple: (10, 20, 30)\n"
          ]
        }
      ]
    },
    {
      "cell_type": "code",
      "source": [
        "t = (1, 2, 3, 2, 4, 1)\n",
        "repeats = set([x for x in t if t.count(x) > 1])\n",
        "print(\"Repeated items:\", repeats)"
      ],
      "metadata": {
        "colab": {
          "base_uri": "https://localhost:8080/"
        },
        "id": "y0tvQ_fmAnE7",
        "outputId": "9a1f1ac0-8416-4c53-84c0-f7071c238601"
      },
      "execution_count": null,
      "outputs": [
        {
          "output_type": "stream",
          "name": "stdout",
          "text": [
            "Repeated items: {1, 2}\n"
          ]
        }
      ]
    },
    {
      "cell_type": "code",
      "source": [
        "t = (1, 2, 3, 4)\n",
        "print(\"Is 3 in tuple?\", 3 in t)"
      ],
      "metadata": {
        "colab": {
          "base_uri": "https://localhost:8080/"
        },
        "id": "6-GtitIrAvTH",
        "outputId": "169619ed-fae5-4adf-d5c6-254eacd0b7ab"
      },
      "execution_count": null,
      "outputs": [
        {
          "output_type": "stream",
          "name": "stdout",
          "text": [
            "Is 3 in tuple? True\n"
          ]
        }
      ]
    },
    {
      "cell_type": "code",
      "source": [
        "lst = [1, 2, 3]\n",
        "t = tuple(lst)\n",
        "print(\"Tuple from list:\", t)"
      ],
      "metadata": {
        "colab": {
          "base_uri": "https://localhost:8080/"
        },
        "id": "UFknGAPIAzmR",
        "outputId": "de0b653d-97fe-4265-aa03-262009e2df40"
      },
      "execution_count": null,
      "outputs": [
        {
          "output_type": "stream",
          "name": "stdout",
          "text": [
            "Tuple from list: (1, 2, 3)\n"
          ]
        }
      ]
    },
    {
      "cell_type": "code",
      "source": [
        "t = (1, 2, 3, 4)\n",
        "t = tuple(x for x in t if x != 3)\n",
        "print(\"Tuple after removal:\", t)"
      ],
      "metadata": {
        "colab": {
          "base_uri": "https://localhost:8080/"
        },
        "id": "_4OD9KYdA69-",
        "outputId": "f6249938-8af6-41b5-a0b6-a55806225932"
      },
      "execution_count": null,
      "outputs": [
        {
          "output_type": "stream",
          "name": "stdout",
          "text": [
            "Tuple after removal: (1, 2, 4)\n"
          ]
        }
      ]
    },
    {
      "cell_type": "code",
      "source": [
        "t = (10, 20, 30, 40, 50)\n",
        "print(\"Sliced tuple:\", t[1:4])"
      ],
      "metadata": {
        "colab": {
          "base_uri": "https://localhost:8080/"
        },
        "id": "P9ohaF7vA_SI",
        "outputId": "40a8bee1-4bb4-4c19-f90c-502a7f099f5a"
      },
      "execution_count": null,
      "outputs": [
        {
          "output_type": "stream",
          "name": "stdout",
          "text": [
            "Sliced tuple: (20, 30, 40)\n"
          ]
        }
      ]
    },
    {
      "cell_type": "code",
      "source": [
        "t = (5, 10, 15, 20)\n",
        "print(\"Index of 15:\", t.index(15))"
      ],
      "metadata": {
        "colab": {
          "base_uri": "https://localhost:8080/"
        },
        "id": "RsB75zFaBCb4",
        "outputId": "bb74c9b8-f231-43b6-bdc7-cce6a2536b3c"
      },
      "execution_count": null,
      "outputs": [
        {
          "output_type": "stream",
          "name": "stdout",
          "text": [
            "Index of 15: 2\n"
          ]
        }
      ]
    },
    {
      "cell_type": "code",
      "source": [
        "t = (1, 2, 3)\n",
        "print(\"Length:\", len(t))"
      ],
      "metadata": {
        "colab": {
          "base_uri": "https://localhost:8080/"
        },
        "id": "kqhnHrooBGFZ",
        "outputId": "a6436994-f622-4b6e-a38f-5ad9d57984d8"
      },
      "execution_count": null,
      "outputs": [
        {
          "output_type": "stream",
          "name": "stdout",
          "text": [
            "Length: 3\n"
          ]
        }
      ]
    },
    {
      "cell_type": "code",
      "source": [
        "t = (('a', 1), ('b', 2))\n",
        "d = dict(t)\n",
        "print(\"Dictionary:\", d)"
      ],
      "metadata": {
        "colab": {
          "base_uri": "https://localhost:8080/"
        },
        "id": "OtJgUpZrBJyy",
        "outputId": "b85d97c4-aeb9-461b-db06-994562f8bae7"
      },
      "execution_count": null,
      "outputs": [
        {
          "output_type": "stream",
          "name": "stdout",
          "text": [
            "Dictionary: {'a': 1, 'b': 2}\n"
          ]
        }
      ]
    },
    {
      "cell_type": "code",
      "source": [
        "z = [(1, 'a'), (2, 'b'), (3, 'c')]\n",
        "nums, chars = zip(*z)\n",
        "print(\"Unzipped:\", list(nums), list(chars))"
      ],
      "metadata": {
        "colab": {
          "base_uri": "https://localhost:8080/"
        },
        "id": "3VfrLjfyBM9x",
        "outputId": "93769f9e-a4db-47d3-c313-f9a3043bff56"
      },
      "execution_count": null,
      "outputs": [
        {
          "output_type": "stream",
          "name": "stdout",
          "text": [
            "Unzipped: [1, 2, 3] ['a', 'b', 'c']\n"
          ]
        }
      ]
    },
    {
      "cell_type": "code",
      "source": [
        "t = (1, 2, 3, 4)\n",
        "print(\"Reversed:\", t[::-1])"
      ],
      "metadata": {
        "colab": {
          "base_uri": "https://localhost:8080/"
        },
        "id": "H90fRjmlBRHM",
        "outputId": "4ebb3434-b73f-4bf5-d0c3-0b8c15d3a992"
      },
      "execution_count": null,
      "outputs": [
        {
          "output_type": "stream",
          "name": "stdout",
          "text": [
            "Reversed: (4, 3, 2, 1)\n"
          ]
        }
      ]
    },
    {
      "cell_type": "code",
      "source": [
        "lst_tuples = [('x', 10), ('y', 20)]\n",
        "d = dict(lst_tuples)\n",
        "print(\"Dictionary:\", d)"
      ],
      "metadata": {
        "id": "ScMSv51MBU2s",
        "outputId": "c83d335c-99af-487c-ff38-72a3c20927cf",
        "colab": {
          "base_uri": "https://localhost:8080/"
        }
      },
      "execution_count": null,
      "outputs": [
        {
          "output_type": "stream",
          "name": "stdout",
          "text": [
            "Dictionary: {'x': 10, 'y': 20}\n"
          ]
        }
      ]
    },
    {
      "cell_type": "code",
      "source": [
        "t = (100, 200, 300)\n",
        "print(f\"This is a tuple {t}\")"
      ],
      "metadata": {
        "colab": {
          "base_uri": "https://localhost:8080/"
        },
        "id": "rGDqPXceAUdQ",
        "outputId": "b4e998d4-3030-496a-d365-d535f0c2d0ba"
      },
      "execution_count": null,
      "outputs": [
        {
          "output_type": "stream",
          "name": "stdout",
          "text": [
            "This is a tuple (100, 200, 300)\n"
          ]
        }
      ]
    }
  ]
}
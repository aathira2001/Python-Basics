{
  "cells": [
    {
      "cell_type": "code",
      "execution_count": 1,
      "metadata": {
        "colab": {
          "base_uri": "https://localhost:8080/"
        },
        "id": "v_wsGb46gZWF",
        "outputId": "e7fdae47-df78-4ef6-8c81-bb1effa47d13"
      },
      "outputs": [
        {
          "output_type": "stream",
          "name": "stdout",
          "text": [
            "[ 1  2  3  4  5  6  7  8  9 10]\n"
          ]
        }
      ],
      "source": [
        "import numpy as np\n",
        "arr = np.arange(1, 11)\n",
        "print(arr)"
      ],
      "id": "v_wsGb46gZWF"
    },
    {
      "cell_type": "code",
      "execution_count": 2,
      "metadata": {
        "colab": {
          "base_uri": "https://localhost:8080/"
        },
        "id": "mN54SsOZgZWG",
        "outputId": "59b00b51-c765-4004-d09c-cefe0b109add"
      },
      "outputs": [
        {
          "output_type": "stream",
          "name": "stdout",
          "text": [
            "[[0. 0. 0.]\n",
            " [0. 0. 0.]\n",
            " [0. 0. 0.]]\n"
          ]
        }
      ],
      "source": [
        "matrix = np.zeros((3, 3))\n",
        "print(matrix)"
      ],
      "id": "mN54SsOZgZWG"
    },
    {
      "cell_type": "code",
      "execution_count": 3,
      "metadata": {
        "colab": {
          "base_uri": "https://localhost:8080/"
        },
        "id": "B__8eJXBgZWH",
        "outputId": "47ac10fe-d5f5-4066-e2df-f12483ca5dc8"
      },
      "outputs": [
        {
          "output_type": "stream",
          "name": "stdout",
          "text": [
            "Matrix:\n",
            " [[3.65706479e-01 8.11345131e-01 9.36348823e-01 6.73443351e-01]\n",
            " [3.12420351e-04 7.06624344e-01 7.88936692e-01 9.36407158e-01]\n",
            " [3.92701231e-01 6.46628034e-01 7.16765972e-01 6.61714453e-01]\n",
            " [6.75298178e-01 7.75637812e-01 8.26973044e-01 8.84338312e-01]]\n",
            "Max Value: 0.9364071581519378\n",
            "Min Value: 0.0003124203510245227\n"
          ]
        }
      ],
      "source": [
        "matrix = np.random.rand(4, 4)\n",
        "print(\"Matrix:\\n\", matrix)\n",
        "print(\"Max Value:\", np.max(matrix))\n",
        "print(\"Min Value:\", np.min(matrix))"
      ],
      "id": "B__8eJXBgZWH"
    },
    {
      "cell_type": "code",
      "execution_count": 4,
      "metadata": {
        "colab": {
          "base_uri": "https://localhost:8080/"
        },
        "id": "kb6_iGbegZWI",
        "outputId": "dd36864c-659b-4dc9-bba7-ca688cafbb2b"
      },
      "outputs": [
        {
          "output_type": "stream",
          "name": "stdout",
          "text": [
            "[[ 1  2  3  4]\n",
            " [ 5  6  7  8]\n",
            " [ 9 10 11 12]]\n"
          ]
        }
      ],
      "source": [
        "arr = np.arange(1, 13)\n",
        "reshaped_arr = arr.reshape(3, 4)\n",
        "print(reshaped_arr)"
      ],
      "id": "kb6_iGbegZWI"
    },
    {
      "cell_type": "code",
      "execution_count": 5,
      "metadata": {
        "colab": {
          "base_uri": "https://localhost:8080/"
        },
        "id": "HmJQGFnGgZWI",
        "outputId": "cc7e4215-48c2-4357-bb6d-f0223cc81b0d"
      },
      "outputs": [
        {
          "output_type": "stream",
          "name": "stdout",
          "text": [
            "Addition: [5 7 9]\n",
            "Multiplication: [ 4 10 18]\n"
          ]
        }
      ],
      "source": [
        "a = np.array([1, 2, 3])\n",
        "b = np.array([4, 5, 6])\n",
        "addition = a + b\n",
        "multiplication = a * b\n",
        "print(\"Addition:\", addition)\n",
        "print(\"Multiplication:\", multiplication)"
      ],
      "id": "HmJQGFnGgZWI"
    },
    {
      "cell_type": "code",
      "execution_count": 6,
      "metadata": {
        "colab": {
          "base_uri": "https://localhost:8080/"
        },
        "id": "zh9lbNeugZWJ",
        "outputId": "bbe69d95-1c1e-42d6-cd8b-0f446a7b0bd8"
      },
      "outputs": [
        {
          "output_type": "stream",
          "name": "stdout",
          "text": [
            "Mean: 30.0\n",
            "Median: 30.0\n",
            "Standard Deviation: 14.142135623730951\n"
          ]
        }
      ],
      "source": [
        "arr = np.array([10, 20, 30, 40, 50])\n",
        "print(\"Mean:\", np.mean(arr))\n",
        "print(\"Median:\", np.median(arr))\n",
        "print(\"Standard Deviation:\", np.std(arr))"
      ],
      "id": "zh9lbNeugZWJ"
    }
  ],
  "metadata": {
    "kernelspec": {
      "display_name": "Python 3",
      "language": "python",
      "name": "python3"
    },
    "language_info": {
      "name": "python",
      "version": "3.9"
    },
    "colab": {
      "provenance": []
    }
  },
  "nbformat": 4,
  "nbformat_minor": 5
}
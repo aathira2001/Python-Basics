{
  "nbformat": 4,
  "nbformat_minor": 0,
  "metadata": {
    "colab": {
      "provenance": []
    },
    "kernelspec": {
      "name": "python3",
      "display_name": "Python 3"
    },
    "language_info": {
      "name": "python"
    }
  },
  "cells": [
    {
      "cell_type": "code",
      "execution_count": null,
      "metadata": {
        "colab": {
          "base_uri": "https://localhost:8080/"
        },
        "id": "mdp9VqtbN-Z0",
        "outputId": "0c82d4fd-fde7-42b3-a249-81ef59f5f89a"
      },
      "outputs": [
        {
          "output_type": "stream",
          "name": "stdout",
          "text": [
            "Character Frequency: {'d': 1, 'i': 2, 'c': 1, 't': 1, 'o': 1, 'n': 1, 'a': 1, 'r': 1, 'y': 1}\n"
          ]
        }
      ],
      "source": [
        "input_str = \"dictionary\"\n",
        "char_freq = {}\n",
        "for char in input_str:\n",
        "    char_freq[char] = char_freq.get(char, 0) + 1\n",
        "print(\"Character Frequency:\", char_freq)"
      ]
    },
    {
      "cell_type": "code",
      "source": [
        "cities = {\n",
        "    \"Delhi\": 19000000,\n",
        "    \"Mumbai\": 20400000,\n",
        "    \"Bangalore\": 12000000,\n",
        "    \"Chennai\": 11000000,\n",
        "    \"Kolkata\": 14900000\n",
        "}\n",
        "max_city = max(cities, key=cities.get)\n",
        "print(\"City with Maximum Population:\", max_city, \"->\", cities[max_city])"
      ],
      "metadata": {
        "colab": {
          "base_uri": "https://localhost:8080/"
        },
        "id": "X65_o8IROOWU",
        "outputId": "c3b5fb73-1179-44d2-e7e9-721c8a6c0dc9"
      },
      "execution_count": null,
      "outputs": [
        {
          "output_type": "stream",
          "name": "stdout",
          "text": [
            "City with Maximum Population: Mumbai -> 20400000\n"
          ]
        }
      ]
    },
    {
      "cell_type": "code",
      "source": [
        "students = {\n",
        "    \"Amal\": 88,\n",
        "    \"Anand\": 92,\n",
        "    \"Rahul\": 79,\n",
        "    \"Devadarshan\": 95\n",
        "}\n",
        "top_student = max(students, key=students.get)\n",
        "print(\"Top Student:\", top_student, \"->\", students[top_student])"
      ],
      "metadata": {
        "colab": {
          "base_uri": "https://localhost:8080/"
        },
        "id": "ITCxz71bOOSz",
        "outputId": "065da2e4-0312-4dae-f924-b49a2af0086f"
      },
      "execution_count": null,
      "outputs": [
        {
          "output_type": "stream",
          "name": "stdout",
          "text": [
            "Top Student: Devadarshan -> 95\n"
          ]
        }
      ]
    },
    {
      "cell_type": "code",
      "source": [
        "sorted_by_keys = dict(sorted(students.items()))\n",
        "print(\"Dictionary Sorted by Keys:\", sorted_by_keys)"
      ],
      "metadata": {
        "colab": {
          "base_uri": "https://localhost:8080/"
        },
        "id": "9vah54S5OOQV",
        "outputId": "6b513b97-c431-4523-bcac-7d7bc14e271d"
      },
      "execution_count": null,
      "outputs": [
        {
          "output_type": "stream",
          "name": "stdout",
          "text": [
            "Dictionary Sorted by Keys: {'Amal': 88, 'Anand': 92, 'Devadarshan': 95, 'Rahul': 79}\n"
          ]
        }
      ]
    },
    {
      "cell_type": "code",
      "source": [
        "sorted_by_values = dict(sorted(students.items(), key=lambda item: item[1]))\n",
        "print(\"Dictionary Sorted by Values:\", sorted_by_values)"
      ],
      "metadata": {
        "colab": {
          "base_uri": "https://localhost:8080/"
        },
        "id": "4acKHLp_OON2",
        "outputId": "785d7938-89a6-4760-e446-be0c2201e947"
      },
      "execution_count": null,
      "outputs": [
        {
          "output_type": "stream",
          "name": "stdout",
          "text": [
            "Dictionary Sorted by Values: {'Rahul': 79, 'Amal': 88, 'Anand': 92, 'Devadarshan': 95}\n"
          ]
        }
      ]
    },
    {
      "cell_type": "code",
      "source": [
        "squares = {x: x**2 for x in range(1, 6)}\n",
        "print(\"Squares Dictionary:\", squares)"
      ],
      "metadata": {
        "colab": {
          "base_uri": "https://localhost:8080/"
        },
        "id": "ZeiNqFwcOOLQ",
        "outputId": "2a6bfc22-dda3-4896-af37-2569e113bc12"
      },
      "execution_count": null,
      "outputs": [
        {
          "output_type": "stream",
          "name": "stdout",
          "text": [
            "Squares Dictionary: {1: 1, 2: 4, 3: 9, 4: 16, 5: 25}\n"
          ]
        }
      ]
    },
    {
      "cell_type": "code",
      "source": [
        "keys = [\"name\", \"age\", \"city\"]\n",
        "values = [\"John\", 25, \"New York\"]\n",
        "combined_dict = dict(zip(keys, values))\n",
        "print(\"Combined Dictionary:\", combined_dict)"
      ],
      "metadata": {
        "colab": {
          "base_uri": "https://localhost:8080/"
        },
        "id": "WsS2g-gvOOJH",
        "outputId": "0b8160f8-2050-4507-abe5-f3bcd60f3b2f"
      },
      "execution_count": null,
      "outputs": [
        {
          "output_type": "stream",
          "name": "stdout",
          "text": [
            "Combined Dictionary: {'name': 'John', 'age': 25, 'city': 'New York'}\n"
          ]
        }
      ]
    },
    {
      "cell_type": "code",
      "source": [
        "favorites = {\n",
        "    \"Alice\": \"Blue\",\n",
        "    \"Bob\": \"Green\",\n",
        "    \"Charlie\": \"Blue\",\n",
        "    \"David\": \"Red\",\n",
        "    \"Eve\": \"Green\"\n",
        "}\n",
        "unique_colors = {}\n",
        "seen = set()\n",
        "for name, color in favorites.items():\n",
        "    if color not in seen:\n",
        "        unique_colors[name] = color\n",
        "        seen.add(color)\n",
        "print(\"Unique Colors Dictionary:\", unique_colors)"
      ],
      "metadata": {
        "colab": {
          "base_uri": "https://localhost:8080/"
        },
        "id": "D9GSmfEkOOGh",
        "outputId": "8f1a15c8-ff58-49d3-b61a-f8c418888a7b"
      },
      "execution_count": null,
      "outputs": [
        {
          "output_type": "stream",
          "name": "stdout",
          "text": [
            "Unique Colors Dictionary: {'Alice': 'Blue', 'Bob': 'Green', 'David': 'Red'}\n"
          ]
        }
      ]
    },
    {
      "cell_type": "code",
      "source": [
        "def check_and_add_key(dictionary, key, default=\"default\"):\n",
        "    if key in dictionary:\n",
        "        return \"Key exists\"\n",
        "    else:\n",
        "        dictionary[key] = default\n",
        "        return \"Key added with default value\"\n",
        "\n",
        "sample_dict = {\"a\": 1, \"b\": 2}\n",
        "print(check_and_add_key(sample_dict, \"b\"))\n",
        "print(check_and_add_key(sample_dict, \"c\"))\n",
        "print(\"Updated Dictionary:\", sample_dict)"
      ],
      "metadata": {
        "colab": {
          "base_uri": "https://localhost:8080/"
        },
        "id": "PXB4ZfXwOODz",
        "outputId": "dc7097ed-79be-4298-f9ad-837317b763f4"
      },
      "execution_count": null,
      "outputs": [
        {
          "output_type": "stream",
          "name": "stdout",
          "text": [
            "Key exists\n",
            "Key added with default value\n",
            "Updated Dictionary: {'a': 1, 'b': 2, 'c': 'default'}\n"
          ]
        }
      ]
    },
    {
      "cell_type": "code",
      "source": [
        "people = {\n",
        "    \"Anil\": 28,\n",
        "    \"Bhavna\": 35,\n",
        "    \"Chetan\": 42,\n",
        "    \"Disha\": 25,\n",
        "    \"Eshan\": 31\n",
        "}\n",
        "older_than_30 = [name for name, age in people.items() if age > 30]\n",
        "print(\"People older than 30:\", older_than_30)"
      ],
      "metadata": {
        "colab": {
          "base_uri": "https://localhost:8080/"
        },
        "id": "ODYsPIBmOOBV",
        "outputId": "b3c558f5-9b8a-4c35-ba27-13c8c9ef2069"
      },
      "execution_count": null,
      "outputs": [
        {
          "output_type": "stream",
          "name": "stdout",
          "text": [
            "People older than 30: ['Bhavna', 'Chetan', 'Eshan']\n"
          ]
        }
      ]
    }
  ]
}
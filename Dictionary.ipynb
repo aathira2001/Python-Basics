{
  "nbformat": 4,
  "nbformat_minor": 0,
  "metadata": {
    "colab": {
      "provenance": []
    },
    "kernelspec": {
      "name": "python3",
      "display_name": "Python 3"
    },
    "language_info": {
      "name": "python"
    }
  },
  "cells": [
    {
      "cell_type": "code",
      "execution_count": null,
      "metadata": {
        "colab": {
          "base_uri": "https://localhost:8080/"
        },
        "id": "UVd3RsjANGxA",
        "outputId": "f8e4facd-9d7d-46a5-e59b-2cd7567fa261"
      },
      "outputs": [
        {
          "output_type": "stream",
          "name": "stdout",
          "text": [
            "Book Dictionary: {'title': 'The Great Gatsby', 'author': 'F. Scott Fitzgerald', 'price': 499}\n"
          ]
        }
      ],
      "source": [
        "book = {\n",
        "    \"title\": \"The Great Gatsby\",\n",
        "    \"author\": \"F. Scott Fitzgerald\",\n",
        "    \"price\": 499\n",
        "}\n",
        "print(\"Book Dictionary:\", book)"
      ]
    },
    {
      "cell_type": "code",
      "source": [
        "print(\"Book Title:\", book[\"title\"])"
      ],
      "metadata": {
        "colab": {
          "base_uri": "https://localhost:8080/"
        },
        "id": "F9YlNEpINVq7",
        "outputId": "fc56b4cf-8a04-4d22-b323-7653331a8cc4"
      },
      "execution_count": null,
      "outputs": [
        {
          "output_type": "stream",
          "name": "stdout",
          "text": [
            "Book Title: The Great Gatsby\n"
          ]
        }
      ]
    },
    {
      "cell_type": "code",
      "source": [
        "book[\"published_year\"] = 1925\n",
        "print(\"After Adding Published Year:\", book)"
      ],
      "metadata": {
        "colab": {
          "base_uri": "https://localhost:8080/"
        },
        "id": "NIUecG28NWnc",
        "outputId": "58a5ba8c-4c09-4662-b38e-d7ddefb185d6"
      },
      "execution_count": null,
      "outputs": [
        {
          "output_type": "stream",
          "name": "stdout",
          "text": [
            "After Adding Published Year: {'title': 'The Great Gatsby', 'author': 'F. Scott Fitzgerald', 'price': 499, 'published_year': 1925}\n"
          ]
        }
      ]
    },
    {
      "cell_type": "code",
      "source": [
        "book[\"price\"] = 399\n",
        "print(\"After Updating Price:\", book)"
      ],
      "metadata": {
        "colab": {
          "base_uri": "https://localhost:8080/"
        },
        "id": "KgDElyMXNY6m",
        "outputId": "7421ac54-1944-4213-be06-35119a14525c"
      },
      "execution_count": null,
      "outputs": [
        {
          "output_type": "stream",
          "name": "stdout",
          "text": [
            "After Updating Price: {'title': 'The Great Gatsby', 'author': 'F. Scott Fitzgerald', 'price': 399, 'published_year': 1925}\n"
          ]
        }
      ]
    },
    {
      "cell_type": "code",
      "source": [
        "del book[\"author\"]\n",
        "print(\"After Removing Author (using del):\", book)"
      ],
      "metadata": {
        "colab": {
          "base_uri": "https://localhost:8080/"
        },
        "id": "7PAWwga9Nbox",
        "outputId": "bda50bfe-a60b-444f-9df2-2e17b07cb080"
      },
      "execution_count": null,
      "outputs": [
        {
          "output_type": "stream",
          "name": "stdout",
          "text": [
            "After Removing Author (using del): {'title': 'The Great Gatsby', 'price': 399, 'published_year': 1925}\n"
          ]
        }
      ]
    },
    {
      "cell_type": "code",
      "source": [
        "book.pop(\"published_year\")\n",
        "print(\"After Removing Published Year (using pop):\", book)"
      ],
      "metadata": {
        "colab": {
          "base_uri": "https://localhost:8080/"
        },
        "id": "1vMmwNUINblb",
        "outputId": "2078c4f7-9143-4895-95ce-68e2053a1110"
      },
      "execution_count": null,
      "outputs": [
        {
          "output_type": "stream",
          "name": "stdout",
          "text": [
            "After Removing Published Year (using pop): {'title': 'The Great Gatsby', 'price': 399}\n"
          ]
        }
      ]
    },
    {
      "cell_type": "code",
      "source": [
        "if \"title\" in book:\n",
        "    print(\"Key 'title' exists in the book dictionary.\")\n",
        "else:\n",
        "    print(\"Key 'title' does not exist.\")"
      ],
      "metadata": {
        "colab": {
          "base_uri": "https://localhost:8080/"
        },
        "id": "IDXex4y4Nbi1",
        "outputId": "69370e2c-91a0-475b-8cae-e5d7618f605e"
      },
      "execution_count": null,
      "outputs": [
        {
          "output_type": "stream",
          "name": "stdout",
          "text": [
            "Key 'title' exists in the book dictionary.\n"
          ]
        }
      ]
    },
    {
      "cell_type": "code",
      "source": [
        "students = {\n",
        "    \"Alice\": 85,\n",
        "    \"Bob\": 78,\n",
        "    \"Charlie\": 92\n",
        "}\n",
        "print(\"Student Names:\", students.keys())"
      ],
      "metadata": {
        "colab": {
          "base_uri": "https://localhost:8080/"
        },
        "id": "k63I3NW1NbgT",
        "outputId": "6dea11f3-0574-4bd0-c5d5-23ce5e2534eb"
      },
      "execution_count": null,
      "outputs": [
        {
          "output_type": "stream",
          "name": "stdout",
          "text": [
            "Student Names: dict_keys(['Alice', 'Bob', 'Charlie'])\n"
          ]
        }
      ]
    },
    {
      "cell_type": "code",
      "source": [
        "print(\"Student Marks:\", students.values())"
      ],
      "metadata": {
        "colab": {
          "base_uri": "https://localhost:8080/"
        },
        "id": "FY3f4Ex0Nbd0",
        "outputId": "13771e43-3912-4dbf-cbde-75c7d9625122"
      },
      "execution_count": null,
      "outputs": [
        {
          "output_type": "stream",
          "name": "stdout",
          "text": [
            "Student Marks: dict_values([85, 78, 92])\n"
          ]
        }
      ]
    },
    {
      "cell_type": "code",
      "source": [
        "extra_students = {\n",
        "    \"David\": 88,\n",
        "    \"Eve\": 91\n",
        "}\n",
        "students.update(extra_students)\n",
        "print(\"Merged Student Dictionary:\", students)"
      ],
      "metadata": {
        "colab": {
          "base_uri": "https://localhost:8080/"
        },
        "id": "3LvbZpX2NbbM",
        "outputId": "44b07ee3-99e5-4921-924a-0656067a3bb2"
      },
      "execution_count": null,
      "outputs": [
        {
          "output_type": "stream",
          "name": "stdout",
          "text": [
            "Merged Student Dictionary: {'Alice': 85, 'Bob': 78, 'Charlie': 92, 'David': 88, 'Eve': 91}\n"
          ]
        }
      ]
    },
    {
      "cell_type": "code",
      "source": [
        "print(\"All Student Marks:\")\n",
        "for name, mark in students.items():\n",
        "    print(name, \":\", mark)"
      ],
      "metadata": {
        "colab": {
          "base_uri": "https://localhost:8080/"
        },
        "id": "JQW26wsXNbYk",
        "outputId": "4f9c2aeb-9db8-4189-9edf-8ba981cfe596"
      },
      "execution_count": null,
      "outputs": [
        {
          "output_type": "stream",
          "name": "stdout",
          "text": [
            "All Student Marks:\n",
            "Alice : 85\n",
            "Bob : 78\n",
            "Charlie : 92\n",
            "David : 88\n",
            "Eve : 91\n"
          ]
        }
      ]
    }
  ]
}